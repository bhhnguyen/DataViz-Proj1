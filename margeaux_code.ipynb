{
 "cells": [
  {
   "cell_type": "code",
   "execution_count": null,
   "metadata": {},
   "outputs": [],
   "source": [
    "# from alpha_vantage.timeseries import TimeSeries\n",
    "# from alpha_vantage.techindicators import TechIndicators\n",
    "# from pprint import pprint\n",
    "import matplotlib.pyplot as plt\n",
    "import pandas as pd\n"
   ]
  },
  {
   "cell_type": "code",
   "execution_count": null,
   "metadata": {},
   "outputs": [],
   "source": [
    "stocks_df=pd.read_csv(\"stock_export.csv\")\n",
    "stocks_df=pd.DataFrame(stocks_df)\n",
    "stocks_df.head()"
   ]
  },
  {
   "cell_type": "code",
   "execution_count": null,
   "metadata": {},
   "outputs": [],
   "source": [
    "date_df=stocks_df.set_index(['Symbol'])\n",
    "date_df=date_df.dropna()\n",
    "date_df=date_df.drop(['Unnamed: 0', 'Sector', 'Name'], axis=1)\n",
    "date_df.head()"
   ]
  },
  {
   "cell_type": "code",
   "execution_count": null,
   "metadata": {},
   "outputs": [],
   "source": [
    "date_df=date_df.swapaxes(\"index\", \"columns\") \n",
    "date_df=date_df.reset_index()\n",
    "date_df=date_df.rename(columns={\"index\": \"date_range\"})\n",
    "date_df.head()"
   ]
  },
  {
   "cell_type": "code",
   "execution_count": null,
   "metadata": {},
   "outputs": [],
   "source": [
    "date = date_df.index.astype('O')"
   ]
  },
  {
   "cell_type": "code",
   "execution_count": null,
   "metadata": {},
   "outputs": [],
   "source": [
    "x=date_df[\"date_range\"]\n",
    "y=date_df[\"MMM\"]\n",
    "fig, ax=plt.subplots()\n",
    "ax.plot(x,y);\n",
    "plt.title(\"3M Weekly Close Values (October 4,2019-March 13,2020)\")\n",
    "plt.xlabel(\"Date Range\")\n",
    "plt.ylabel(\"Close Values\")\n",
    "for label in ax.get_xticklabels():\n",
    "    label.set_ha(\"right\")\n",
    "    label.set_rotation(35)\n",
    "plt.style.use('seaborn')\n",
    "plt.tight_layout()\n",
    "plt.show()"
   ]
  },
  {
   "cell_type": "code",
   "execution_count": null,
   "metadata": {},
   "outputs": [],
   "source": [
    "cleaned_stocks=stocks_df.dropna()\n",
    "cleaned_stocks=cleaned_stocks.drop(['Unnamed: 0'], axis=1)\n",
    "sector_df=cleaned_stocks.groupby(\"Sector\").mean()\n",
    "sector_df.head()"
   ]
  },
  {
   "cell_type": "code",
   "execution_count": null,
   "metadata": {},
   "outputs": [],
   "source": [
    "sector_df=sector_df.swapaxes(\"index\", \"columns\") \n",
    "sector_df=sector_df.rename(index={'Sector': 'date_range'})\n",
    "sector_df.index.name = 'date_range'\n",
    "sector_df.head()"
   ]
  },
  {
   "cell_type": "code",
   "execution_count": null,
   "metadata": {},
   "outputs": [],
   "source": [
    "df=sector_df.reset_index()"
   ]
  },
  {
   "cell_type": "code",
   "execution_count": null,
   "metadata": {},
   "outputs": [],
   "source": [
    "x_axis=df[\"date_range\"]\n",
    "y_1=df[\"Consumer Discretionary\"]\n",
    "y_2=df[\"Financials\"]\n",
    "y_3=df[\"Health Care\"]\n",
    "y_4=df[\"Industrials\"]\n",
    "y_5=df[\"Information Technology\"]\n",
    "y_6=df[\"Materials\"]\n",
    "y_7=df[\"Real Estate\"]\n",
    "y_8=df[\"Utilities\"]\n",
    "fig,ax=plt.subplots()\n",
    "consumer_discretionary=plt.plot(x_axis, y_1, label=\"Consumer Disrectionary\", color=\"gold\")\n",
    "fin=plt.plot(x_axis, y_2, label=\"Financials\", color=\"coral\")\n",
    "hc=plt.plot(x_axis, y_3, label=\"Health Care\", color=\"cornflowerblue\")\n",
    "ind=plt.plot(x_axis, y_4, label=\"Industrials\", color=\"green\")\n",
    "it=plt.plot(x_axis, y_5, label=\"Information Technology\", color=\"yellowgreen\")\n",
    "mat=plt.plot(x_axis, y_6, label=\"Materials\", color=\"magenta\")\n",
    "re=plt.plot(x_axis, y_7, label=\"Real Estate\",color=\"teal\")\n",
    "ut=plt.plot(x_axis, y_8, label=\"Utilities\", color=\"purple\")\n",
    "for label in ax.get_xticklabels():\n",
    "    label.set_ha(\"right\")\n",
    "    label.set_rotation(35)\n",
    "plt.tight_layout()\n",
    "plt.style.use('seaborn')\n",
    "plt.legend(bbox_to_anchor=(1.1, 1.05))\n",
    "plt.title(\"Average Close Values by Sector (October 4,2019-March 13,2020)\")\n",
    "plt.xlabel(\"Date Range\")\n",
    "plt.ylabel(\"Average Weekly Close Value\")\n",
    "plt.show()\n"
   ]
  },
  {
   "cell_type": "code",
   "execution_count": null,
   "metadata": {},
   "outputs": [],
   "source": [
    "# place holder until we get more data\n",
    "consumer_df=stocks_df.loc[stocks_df[\"Sector\"]==\"Consumer Disrectionary\"]\n",
    "consumer_df=consumer_df.dropna()\n",
    "consumer_df"
   ]
  },
  {
   "cell_type": "code",
   "execution_count": null,
   "metadata": {},
   "outputs": [],
   "source": [
    "fin_df=stocks_df.loc[stocks_df[\"Sector\"]==\"Financials\"]\n",
    "fin_df=fin_df.dropna()\n",
    "fin_df=fin_df.drop(['Unnamed: 0', 'Sector', 'Symbol'], axis=1)\n",
    "fin_df=fin_df.rename(columns={'Name': 'date_range'})\n",
    "fin_df=fin_df.set_index('date_range')\n",
    "fin_df=fin_df.swapaxes(\"index\", \"columns\")\n",
    "fin_df['Average Close'] = fin_df.mean(axis=1)\n",
    "fin_df['MA_5'] = fin_df[\"Average Close\"].rolling(window=5).mean()\n",
    "fin_df['MA_10'] = fin_df[\"Average Close\"].rolling(window=10).mean()\n",
    "fin_df"
   ]
  },
  {
   "cell_type": "code",
   "execution_count": null,
   "metadata": {},
   "outputs": [],
   "source": [
    "fin_df=fin_df.reset_index()\n",
    "fin_df=fin_df.rename(columns={'index': 'date_range'})"
   ]
  },
  {
   "cell_type": "code",
   "execution_count": null,
   "metadata": {},
   "outputs": [],
   "source": [
    "date_range=fin_df[\"date_range\"]\n",
    "avg_close=fin_df[\"Average Close\"]\n",
    "ma_5=fin_df[\"MA_5\"]\n",
    "ma_10=fin_df[\"MA_10\"]\n",
    "fig,ax=plt.subplots()\n",
    "ax.plot(date_range,avg_close, label=\"data\")\n",
    "ax.plot(date_range, ma_5, label=\"SMA 5 Weeks\")\n",
    "ax.plot(date_range, ma_10, label=\"SMA 10 Weeks\")\n",
    "for label in ax.get_xticklabels():\n",
    "    label.set_ha(\"right\")\n",
    "    label.set_rotation(35)\n",
    "plt.style.use('seaborn')\n",
    "plt.legend(bbox_to_anchor=(1.05, 1.04))\n",
    "plt.title(\"Moving Averages of the Financial Sector\")\n",
    "plt.xlabel(\"Date Range\")\n",
    "plt.ylabel(\"Stock Value\")\n",
    "plt.tight_layout()\n",
    "plt.show()"
   ]
  },
  {
   "cell_type": "code",
   "execution_count": null,
   "metadata": {},
   "outputs": [],
   "source": [
    "healthcare_df=stocks_df.loc[stocks_df[\"Sector\"]==\"Health Care\"]\n",
    "healthcare_df=healthcare_df.dropna()\n",
    "healthcare_df=healthcare_df.drop(['Unnamed: 0', 'Sector', 'Symbol'], axis=1)\n",
    "healthcare_df=healthcare_df.rename(columns={'Name': 'date_range'})\n",
    "healthcare_df=healthcare_df.set_index('date_range')\n",
    "healthcare_df=healthcare_df.swapaxes(\"index\", \"columns\")\n",
    "healthcare_df['Average Close'] = healthcare_df.mean(axis=1)\n",
    "healthcare_df['MA_5'] = healthcare_df[\"Average Close\"].rolling(window=5).mean()\n",
    "healthcare_df['MA_10'] = healthcare_df[\"Average Close\"].rolling(window=10).mean()\n",
    "healthcare_df        "
   ]
  },
  {
   "cell_type": "code",
   "execution_count": null,
   "metadata": {},
   "outputs": [],
   "source": [
    "healthcare_df=healthcare_df.reset_index()\n",
    "healthcare_df=healthcare_df.rename(columns={'index': 'date_range'})"
   ]
  },
  {
   "cell_type": "code",
   "execution_count": null,
   "metadata": {},
   "outputs": [],
   "source": [
    "date_range=healthcare_df[\"date_range\"]\n",
    "avg_close=healthcare_df[\"Average Close\"]\n",
    "ma_5=healthcare_df[\"MA_5\"]\n",
    "ma_10=healthcare_df[\"MA_10\"]\n",
    "fig,ax=plt.subplots()\n",
    "ax.plot(date_range,avg_close, label=\"data\")\n",
    "ax.plot(date_range, ma_5, label=\"SMA 5 Weeks\")\n",
    "ax.plot(date_range, ma_10, label=\"SMA 10 Weeks\")\n",
    "for label in ax.get_xticklabels():\n",
    "    label.set_ha(\"right\")\n",
    "    label.set_rotation(35)\n",
    "plt.style.use('seaborn')\n",
    "plt.legend(bbox_to_anchor=(1.05, 1.04))\n",
    "plt.title(\"Moving Averages of the Health Care Sector\")\n",
    "plt.xlabel(\"Date Range\")\n",
    "plt.ylabel(\"Stock Value\")\n",
    "plt.tight_layout()\n",
    "plt.show()"
   ]
  },
  {
   "cell_type": "code",
   "execution_count": null,
   "metadata": {},
   "outputs": [],
   "source": [
    "industrials_df=stocks_df.loc[stocks_df[\"Sector\"]==\"Industrials\"]\n",
    "industrials_df=industrials_df.dropna()\n",
    "industrials_df=industrials_df.drop(['Unnamed: 0', 'Sector', 'Symbol'], axis=1)\n",
    "industrials_df=industrials_df.rename(columns={'Name': 'date_range'})\n",
    "industrials_df=industrials_df.set_index('date_range')\n",
    "industrials_df=industrials_df.swapaxes(\"index\", \"columns\")\n",
    "industrials_df['Average Close'] = industrials_df.mean(axis=1)\n",
    "industrials_df['MA_5'] = industrials_df[\"Average Close\"].rolling(window=5).mean()\n",
    "industrials_df['MA_10'] = industrials_df[\"Average Close\"].rolling(window=10).mean()\n",
    "industrials_df "
   ]
  },
  {
   "cell_type": "code",
   "execution_count": null,
   "metadata": {},
   "outputs": [],
   "source": [
    "industrials_df=industrials_df.reset_index()\n",
    "industrials_df=industrials_df.rename(columns={'index': 'date_range'})"
   ]
  },
  {
   "cell_type": "code",
   "execution_count": null,
   "metadata": {},
   "outputs": [],
   "source": [
    "date_range=industrials_df[\"date_range\"]\n",
    "avg_close=industrials_df[\"Average Close\"]\n",
    "ma_5=industrials_df[\"MA_5\"]\n",
    "ma_10=industrials_df[\"MA_10\"]\n",
    "fig,ax=plt.subplots()\n",
    "ax.plot(date_range,avg_close, label=\"data\")\n",
    "ax.plot(date_range, ma_5, label=\"SMA 5 Weeks\")\n",
    "ax.plot(date_range, ma_10, label=\"SMA 10 Weeks\")\n",
    "for label in ax.get_xticklabels():\n",
    "    label.set_ha(\"right\")\n",
    "    label.set_rotation(35)\n",
    "plt.style.use('seaborn')\n",
    "plt.legend(bbox_to_anchor=(1.3, 1.04))\n",
    "plt.title(\"Moving Averages of the Industrials Sector\")\n",
    "plt.xlabel(\"Date Range\")\n",
    "plt.ylabel(\"Stock Value\")\n",
    "plt.tight_layout()\n",
    "plt.show()"
   ]
  },
  {
   "cell_type": "code",
   "execution_count": null,
   "metadata": {},
   "outputs": [],
   "source": [
    "it_df=stocks_df.loc[stocks_df[\"Sector\"]==\"Information Technology\"]\n",
    "it_df=it_df.dropna()\n",
    "it_df=it_df.drop(['Unnamed: 0', 'Sector', 'Symbol'], axis=1)\n",
    "it_df=it_df.rename(columns={'Name': 'date_range'})\n",
    "it_df=it_df.set_index('date_range')\n",
    "it_df=it_df.swapaxes(\"index\", \"columns\")\n",
    "it_df['Average Close'] = it_df.mean(axis=1)\n",
    "it_df['MA_5'] = it_df[\"Average Close\"].rolling(window=5).mean()\n",
    "it_df['MA_10'] = it_df[\"Average Close\"].rolling(window=10).mean()\n",
    "it_df   "
   ]
  },
  {
   "cell_type": "code",
   "execution_count": null,
   "metadata": {},
   "outputs": [],
   "source": [
    "it_df=it_df.reset_index()\n",
    "it_df=it_df.rename(columns={'index': 'date_range'})"
   ]
  },
  {
   "cell_type": "code",
   "execution_count": null,
   "metadata": {},
   "outputs": [],
   "source": [
    "date_range=it_df[\"date_range\"]\n",
    "avg_close=it_df[\"Average Close\"]\n",
    "ma_5=it_df[\"MA_5\"]\n",
    "ma_10=it_df[\"MA_10\"]\n",
    "fig,ax=plt.subplots()\n",
    "ax.plot(date_range,avg_close, label=\"data\")\n",
    "ax.plot(date_range, ma_5, label=\"SMA 5 Weeks\")\n",
    "ax.plot(date_range, ma_10, label=\"SMA 10 Weeks\")\n",
    "for label in ax.get_xticklabels():\n",
    "    label.set_ha(\"right\")\n",
    "    label.set_rotation(35)\n",
    "plt.style.use('seaborn')\n",
    "plt.legend(bbox_to_anchor=(1.3, 1.04))\n",
    "plt.title(\"Moving Averages of the Information Technology Sector\")\n",
    "plt.xlabel(\"Date Range\")\n",
    "plt.ylabel(\"Stock Value\")\n",
    "plt.tight_layout()\n",
    "plt.show()"
   ]
  },
  {
   "cell_type": "code",
   "execution_count": null,
   "metadata": {},
   "outputs": [],
   "source": [
    "materials_df=stocks_df.loc[stocks_df[\"Sector\"]==\"Materials\"]\n",
    "materials_df=materials_df.dropna()\n",
    "materials_df=materials_df.drop(['Unnamed: 0', 'Sector', 'Symbol'], axis=1)\n",
    "materials_df=materials_df.rename(columns={'Name': 'date_range'})\n",
    "materials_df=materials_df.set_index('date_range')\n",
    "materials_df=materials_df.swapaxes(\"index\", \"columns\")\n",
    "materials_df['Average Close'] = materials_df.mean(axis=1)\n",
    "materials_df['MA_5'] = materials_df[\"Average Close\"].rolling(window=5).mean()\n",
    "materials_df['MA_10'] = materials_df[\"Average Close\"].rolling(window=10).mean()\n",
    "materials_df  "
   ]
  },
  {
   "cell_type": "code",
   "execution_count": null,
   "metadata": {},
   "outputs": [],
   "source": [
    "materials_df=materials_df.reset_index()\n",
    "materials_df=materials_df.rename(columns={'index': 'date_range'})"
   ]
  },
  {
   "cell_type": "code",
   "execution_count": null,
   "metadata": {},
   "outputs": [],
   "source": [
    "date_range=materials_df[\"date_range\"]\n",
    "avg_close=materials_df[\"Average Close\"]\n",
    "ma_5=it_df[\"MA_5\"]\n",
    "ma_10=it_df[\"MA_10\"]\n",
    "fig,ax=plt.subplots()\n",
    "ax.plot(date_range,avg_close, label=\"data\")\n",
    "ax.plot(date_range, ma_5, label=\"SMA 5 Weeks\")\n",
    "ax.plot(date_range, ma_10, label=\"SMA 10 Weeks\")\n",
    "for label in ax.get_xticklabels():\n",
    "    label.set_ha(\"right\")\n",
    "    label.set_rotation(35)\n",
    "plt.style.use('seaborn')\n",
    "plt.legend(bbox_to_anchor=(1.3, 1.04))\n",
    "plt.title(\"Moving Averages of the Materials Sector\")\n",
    "plt.xlabel(\"Date Range\")\n",
    "plt.ylabel(\"Stock Value\")\n",
    "plt.tight_layout()\n",
    "plt.show()"
   ]
  },
  {
   "cell_type": "code",
   "execution_count": null,
   "metadata": {},
   "outputs": [],
   "source": [
    "realestate_df=stocks_df.loc[stocks_df[\"Sector\"]==\"Real Estate\"]\n",
    "realestate_df=realestate_df.dropna()\n",
    "realestate_df=realestate_df.drop(['Unnamed: 0', 'Sector', 'Symbol'], axis=1)\n",
    "realestate_df=realestate_df.rename(columns={'Name': 'date_range'})\n",
    "realestate_df=realestate_df.set_index('date_range')\n",
    "realestate_df=realestate_df.swapaxes(\"index\", \"columns\")\n",
    "realestate_df['Average Close'] = materials_df.mean(axis=1)\n",
    "realestate_df['MA_5'] = materials_df[\"Average Close\"].rolling(window=5).mean()\n",
    "realestate_df['MA_10'] = materials_df[\"Average Close\"].rolling(window=10).mean()\n",
    "realestate_df  "
   ]
  },
  {
   "cell_type": "code",
   "execution_count": null,
   "metadata": {},
   "outputs": [],
   "source": [
    "realestate_df=realestate_df.reset_index()\n",
    "realestate_df=realestate_df.rename(columns={'index': 'date_range'})"
   ]
  },
  {
   "cell_type": "code",
   "execution_count": null,
   "metadata": {},
   "outputs": [],
   "source": [
    "date_range=realestate_df[\"date_range\"]\n",
    "avg_close=realestate_df[\"Average Close\"]\n",
    "ma_5=it_df[\"MA_5\"]\n",
    "ma_10=it_df[\"MA_10\"]\n",
    "fig,ax=plt.subplots()\n",
    "ax.plot(date_range,avg_close, label=\"data\")\n",
    "ax.plot(date_range, ma_5, label=\"SMA 5 Weeks\")\n",
    "ax.plot(date_range, ma_10, label=\"SMA 10 Weeks\")\n",
    "for label in ax.get_xticklabels():\n",
    "    label.set_ha(\"right\")\n",
    "    label.set_rotation(35)\n",
    "plt.style.use('seaborn')\n",
    "plt.legend(bbox_to_anchor=(1.3, 1.04))\n",
    "plt.title(\"Moving Averages of the Real Estate Sector\")\n",
    "plt.xlabel(\"Date Range\")\n",
    "plt.ylabel(\"Stock Value\")\n",
    "plt.tight_layout()\n",
    "plt.show()"
   ]
  },
  {
   "cell_type": "code",
   "execution_count": null,
   "metadata": {},
   "outputs": [],
   "source": [
    "utilities_df=stocks_df.loc[stocks_df[\"Sector\"]==\"Utilities\"]\n",
    "utilities_df=utilities_df.dropna()\n",
    "utilities_df=utilities_df.drop(['Unnamed: 0', 'Sector', 'Symbol'], axis=1)\n",
    "utilities_df=utilities_df.rename(columns={'Name': 'date_range'})\n",
    "utilities_df=utilities_df.set_index('date_range')\n",
    "utilities_df=utilities_df.swapaxes(\"index\", \"columns\")\n",
    "utilities_df['Average Close'] = materials_df.mean(axis=1)\n",
    "utilities_df['MA_5'] = materials_df[\"Average Close\"].rolling(window=5).mean()\n",
    "utilities_df['MA_10'] = materials_df[\"Average Close\"].rolling(window=10).mean()\n",
    "utilities_df  "
   ]
  },
  {
   "cell_type": "code",
   "execution_count": null,
   "metadata": {},
   "outputs": [],
   "source": [
    "utilities_df=utilities_df.reset_index()\n",
    "utilities_df=utilities_df.rename(columns={'index': 'date_range'})"
   ]
  },
  {
   "cell_type": "code",
   "execution_count": null,
   "metadata": {},
   "outputs": [],
   "source": [
    "date_range=utilities_df[\"date_range\"]\n",
    "avg_close=utilities_df[\"Average Close\"]\n",
    "ma_5=it_df[\"MA_5\"]\n",
    "ma_10=it_df[\"MA_10\"]\n",
    "fig,ax=plt.subplots()\n",
    "ax.plot(date_range,avg_close, label=\"data\")\n",
    "ax.plot(date_range, ma_5, label=\"SMA 5 Weeks\")\n",
    "ax.plot(date_range, ma_10, label=\"SMA 10 Weeks\")\n",
    "for label in ax.get_xticklabels():\n",
    "    label.set_ha(\"right\")\n",
    "    label.set_rotation(35)\n",
    "plt.style.use('seaborn')\n",
    "plt.legend(bbox_to_anchor=(1.3, 1.04))\n",
    "plt.title(\"Moving Averages of the Utilities Sector\")\n",
    "plt.xlabel(\"Date Range\")\n",
    "plt.ylabel(\"Stock Value\")\n",
    "plt.tight_layout()\n",
    "plt.show()"
   ]
  },
  {
   "cell_type": "code",
   "execution_count": null,
   "metadata": {},
   "outputs": [],
   "source": []
  }
 ],
 "metadata": {
  "kernelspec": {
   "display_name": "Python 3",
   "language": "python",
   "name": "python3"
  },
  "language_info": {
   "codemirror_mode": {
    "name": "ipython",
    "version": 3
   },
   "file_extension": ".py",
   "mimetype": "text/x-python",
   "name": "python",
   "nbconvert_exporter": "python",
   "pygments_lexer": "ipython3",
   "version": "3.7.4"
  }
 },
 "nbformat": 4,
 "nbformat_minor": 2
}
